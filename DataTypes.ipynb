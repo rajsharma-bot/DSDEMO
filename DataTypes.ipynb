{
 "cells": [
  {
   "cell_type": "code",
   "execution_count": 1,
   "id": "ba143fc2",
   "metadata": {},
   "outputs": [
    {
     "name": "stdout",
     "output_type": "stream",
     "text": [
      "20 is a  <class 'int'> type\n"
     ]
    }
   ],
   "source": [
    "a=20\n",
    "print(a, 'is a ',type(a), 'type')"
   ]
  },
  {
   "cell_type": "code",
   "execution_count": 2,
   "id": "2e7651aa",
   "metadata": {},
   "outputs": [
    {
     "name": "stdout",
     "output_type": "stream",
     "text": [
      "20.2 is a  <class 'float'> type\n"
     ]
    }
   ],
   "source": [
    "b=20.2\n",
    "print(b, \"is a \", type(b), 'type')"
   ]
  },
  {
   "cell_type": "code",
   "execution_count": 6,
   "id": "46b500e0",
   "metadata": {},
   "outputs": [
    {
     "name": "stdout",
     "output_type": "stream",
     "text": [
      "Python is a powerful language \n"
     ]
    }
   ],
   "source": [
    "first_string='Python'\n",
    "second_string=\" is a powerful\"\n",
    "third_string=\" language \"\n",
    "\n",
    "print(first_string +second_string + third_string)"
   ]
  },
  {
   "cell_type": "code",
   "execution_count": 7,
   "id": "eda497e8",
   "metadata": {},
   "outputs": [
    {
     "name": "stdout",
     "output_type": "stream",
     "text": [
      "[20, 'Raj Sharma', 10.6, 1, 1]\n"
     ]
    }
   ],
   "source": [
    "list =[20,'Raj Sharma',10.6,1,1]\n",
    "print(list)"
   ]
  },
  {
   "cell_type": "code",
   "execution_count": 8,
   "id": "84d6bd68",
   "metadata": {},
   "outputs": [
    {
     "name": "stdout",
     "output_type": "stream",
     "text": [
      "(20, 'Raj', 20.2, 20)\n"
     ]
    }
   ],
   "source": [
    "its_tuple=(20,'Raj',20.2,20)\n",
    "print(its_tuple)"
   ]
  },
  {
   "cell_type": "code",
   "execution_count": 10,
   "id": "860b254c",
   "metadata": {},
   "outputs": [
    {
     "name": "stdout",
     "output_type": "stream",
     "text": [
      "{1, 20, 'Raj', 30, 'Amit', 30.5}\n"
     ]
    }
   ],
   "source": [
    "set={20,30,'Raj',30.5,1,'Amit','Amit'}\n",
    "print(set)"
   ]
  },
  {
   "cell_type": "code",
   "execution_count": 12,
   "id": "6bdae771",
   "metadata": {},
   "outputs": [
    {
     "name": "stdout",
     "output_type": "stream",
     "text": [
      "{'Fname': 'Raj', 'Lname': 'Sharma', 'Cell': 9919479331}\n"
     ]
    }
   ],
   "source": [
    "dictionary={'Fname' : 'Raj' ,'Lname':'Sharma','Cell':9919479331}\n",
    "print(dictionary)"
   ]
  },
  {
   "cell_type": "code",
   "execution_count": 13,
   "id": "bd623fd6",
   "metadata": {
    "scrolled": true
   },
   "outputs": [
    {
     "name": "stdout",
     "output_type": "stream",
     "text": [
      "{}\n"
     ]
    }
   ],
   "source": [
    "dictionary2={}\n",
    "print(dictionary2)"
   ]
  },
  {
   "cell_type": "code",
   "execution_count": 32,
   "id": "1094bfa2",
   "metadata": {},
   "outputs": [
    {
     "ename": "TypeError",
     "evalue": "'str' object is not callable",
     "output_type": "error",
     "traceback": [
      "\u001b[1;31m---------------------------------------------------------------------------\u001b[0m",
      "\u001b[1;31mTypeError\u001b[0m                                 Traceback (most recent call last)",
      "Input \u001b[1;32mIn [32]\u001b[0m, in \u001b[0;36m<cell line: 3>\u001b[1;34m()\u001b[0m\n\u001b[0;32m      1\u001b[0m a\u001b[38;5;241m=\u001b[39m\u001b[38;5;241m20\u001b[39m\n\u001b[0;32m      2\u001b[0m String_value\u001b[38;5;241m=\u001b[39m\u001b[38;5;124m\"\u001b[39m\u001b[38;5;124mI\u001b[39m\u001b[38;5;124m'\u001b[39m\u001b[38;5;124mm String \u001b[39m\u001b[38;5;124m\"\u001b[39m\n\u001b[1;32m----> 3\u001b[0m \u001b[38;5;28mprint\u001b[39m(String_value \u001b[38;5;241m+\u001b[39m \u001b[38;5;28mstr\u001b[39m(a))\n",
      "\u001b[1;31mTypeError\u001b[0m: 'str' object is not callable"
     ]
    }
   ],
   "source": [
    "a=20\n",
    "String_value=\"I'm String \"\n",
    "print(String_value + str(a))"
   ]
  }
 ],
 "metadata": {
  "kernelspec": {
   "display_name": "Python 3 (ipykernel)",
   "language": "python",
   "name": "python3"
  },
  "language_info": {
   "codemirror_mode": {
    "name": "ipython",
    "version": 3
   },
   "file_extension": ".py",
   "mimetype": "text/x-python",
   "name": "python",
   "nbconvert_exporter": "python",
   "pygments_lexer": "ipython3",
   "version": "3.9.7"
  }
 },
 "nbformat": 4,
 "nbformat_minor": 5
}
