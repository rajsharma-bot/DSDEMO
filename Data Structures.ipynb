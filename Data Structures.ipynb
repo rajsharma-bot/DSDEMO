{
 "cells": [
  {
   "cell_type": "markdown",
   "id": "7f25827f",
   "metadata": {},
   "source": [
    "# Data Structures"
   ]
  },
  {
   "cell_type": "markdown",
   "id": "8281e064",
   "metadata": {},
   "source": [
    "List"
   ]
  },
  {
   "cell_type": "code",
   "execution_count": 3,
   "id": "f62f1f6d",
   "metadata": {},
   "outputs": [],
   "source": [
    "list=[1,2,3,6,4,7,1,2]"
   ]
  },
  {
   "cell_type": "code",
   "execution_count": 4,
   "id": "75344564",
   "metadata": {},
   "outputs": [
    {
     "data": {
      "text/plain": [
       "[1, 2, 3, 6, 4, 7, 1, 2]"
      ]
     },
     "execution_count": 4,
     "metadata": {},
     "output_type": "execute_result"
    }
   ],
   "source": [
    "list"
   ]
  },
  {
   "cell_type": "code",
   "execution_count": 20,
   "id": "c8958ef3",
   "metadata": {},
   "outputs": [],
   "source": [
    "list2=[2,2.65,'Raj','Mumbai',63,True,False]"
   ]
  },
  {
   "cell_type": "code",
   "execution_count": 21,
   "id": "4aac8b54",
   "metadata": {},
   "outputs": [
    {
     "data": {
      "text/plain": [
       "[2, 2.65, 'Raj', 'Mumbai', 63, True, False]"
      ]
     },
     "execution_count": 21,
     "metadata": {},
     "output_type": "execute_result"
    }
   ],
   "source": [
    "list2"
   ]
  },
  {
   "cell_type": "code",
   "execution_count": 22,
   "id": "8b762463",
   "metadata": {},
   "outputs": [],
   "source": [
    "list3=[list,list2]"
   ]
  },
  {
   "cell_type": "code",
   "execution_count": 23,
   "id": "5443d3c0",
   "metadata": {},
   "outputs": [
    {
     "data": {
      "text/plain": [
       "[[1, 2, 3, 6, 4, 7, 1, 2], [2, 2.65, 'Raj', 'Mumbai', 63, True, False]]"
      ]
     },
     "execution_count": 23,
     "metadata": {},
     "output_type": "execute_result"
    }
   ],
   "source": [
    "list3"
   ]
  },
  {
   "cell_type": "code",
   "execution_count": 18,
   "id": "deb721ac",
   "metadata": {},
   "outputs": [],
   "source": [
    "citylist=['mumbai','pune','delhi','kanpur']"
   ]
  },
  {
   "cell_type": "code",
   "execution_count": 19,
   "id": "71579e95",
   "metadata": {},
   "outputs": [
    {
     "data": {
      "text/plain": [
       "['mumbai', 'pune', 'delhi', 'kanpur']"
      ]
     },
     "execution_count": 19,
     "metadata": {},
     "output_type": "execute_result"
    }
   ],
   "source": [
    "citylist"
   ]
  },
  {
   "cell_type": "code",
   "execution_count": 34,
   "id": "4587e25f",
   "metadata": {},
   "outputs": [
    {
     "name": "stdout",
     "output_type": "stream",
     "text": [
      "['mumbai', 'pune', 'delhi', 'kanpur', 'mumbai', 'pune', 'delhi', 'kanpur', 'mumbai', 'pune', 'delhi', 'kanpur']\n"
     ]
    }
   ],
   "source": [
    "print (citylist*3)  "
   ]
  }
 ],
 "metadata": {
  "kernelspec": {
   "display_name": "Python 3 (ipykernel)",
   "language": "python",
   "name": "python3"
  },
  "language_info": {
   "codemirror_mode": {
    "name": "ipython",
    "version": 3
   },
   "file_extension": ".py",
   "mimetype": "text/x-python",
   "name": "python",
   "nbconvert_exporter": "python",
   "pygments_lexer": "ipython3",
   "version": "3.9.7"
  }
 },
 "nbformat": 4,
 "nbformat_minor": 5
}
