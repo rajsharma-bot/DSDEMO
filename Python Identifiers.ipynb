{
 "cells": [
  {
   "cell_type": "markdown",
   "id": "b736b8b5",
   "metadata": {},
   "source": [
    "# Class always start with Uppercase letter and all other identifies start with lowercase letter"
   ]
  },
  {
   "cell_type": "markdown",
   "id": "1706dc48",
   "metadata": {},
   "source": [
    "# private member variable"
   ]
  },
  {
   "cell_type": "code",
   "execution_count": null,
   "id": "c4b01325",
   "metadata": {},
   "outputs": [],
   "source": [
    "_private=\"Private Member\""
   ]
  },
  {
   "cell_type": "code",
   "execution_count": null,
   "id": "623decf5",
   "metadata": {},
   "outputs": [],
   "source": [
    "__PrivateS=\"Double underscores is strongly private member\""
   ]
  },
  {
   "cell_type": "markdown",
   "id": "f2e0231a",
   "metadata": {},
   "source": [
    "Keywords :- Key words are reserved word and we cannot use them as constant or variable or any other identifier name"
   ]
  },
  {
   "cell_type": "code",
   "execution_count": 1,
   "id": "6e2754d6",
   "metadata": {},
   "outputs": [],
   "source": [
    "# Keys works are \n",
    "# and , def , exec , if , not\n",
    "# return , assert , del , finally , import\n",
    "# or, try , break , elif , for \n",
    "# in , pass , while , class , else\n",
    "# from , is , print , with , continue\n",
    "# except , global , lambda , raise , yield"
   ]
  },
  {
   "cell_type": "markdown",
   "id": "1949295f",
   "metadata": {},
   "source": [
    "# Assigning values to variables:"
   ]
  },
  {
   "cell_type": "code",
   "execution_count": 2,
   "id": "0491b755",
   "metadata": {},
   "outputs": [],
   "source": [
    "a=50 #Assigning single integer value to a variable"
   ]
  },
  {
   "cell_type": "code",
   "execution_count": 9,
   "id": "9616a07a",
   "metadata": {},
   "outputs": [],
   "source": [
    "a=c=d=e=f=120 #Assigning single integer value to multiple variable\n",
    "b=100"
   ]
  },
  {
   "cell_type": "code",
   "execution_count": 14,
   "id": "a62a9d56",
   "metadata": {},
   "outputs": [
    {
     "name": "stdout",
     "output_type": "stream",
     "text": [
      "a is smaller then b\n"
     ]
    }
   ],
   "source": [
    "if a==b :\n",
    " print('both are same')\n",
    "elif a<b:\n",
    "    print('a is greater then b')\n",
    "else:\n",
    "    print('a is smaller then b')"
   ]
  },
  {
   "cell_type": "code",
   "execution_count": 22,
   "id": "271b3859",
   "metadata": {},
   "outputs": [],
   "source": [
    "F=\"Hello1\"  #Assigning single string value to a variable"
   ]
  },
  {
   "cell_type": "code",
   "execution_count": 23,
   "id": "5b6dc49d",
   "metadata": {},
   "outputs": [],
   "source": [
    "H=J=K=\"Hello\" #Assigning single string value to multiple variable"
   ]
  },
  {
   "cell_type": "code",
   "execution_count": 24,
   "id": "8f67c03c",
   "metadata": {},
   "outputs": [
    {
     "name": "stdout",
     "output_type": "stream",
     "text": [
      "Both are different\n"
     ]
    }
   ],
   "source": [
    "if F==H:\n",
    "    print('both are same')\n",
    "else:\n",
    "    print('Both are different')"
   ]
  },
  {
   "cell_type": "markdown",
   "id": "b96d7035",
   "metadata": {},
   "source": [
    "# Input output functions"
   ]
  },
  {
   "cell_type": "markdown",
   "id": "2d9694a8",
   "metadata": {},
   "source": [
    "    In python language we have the input() function which helps us to take the input from the user.\n",
    "    \n",
    "    In python language we have the print() function which helps us to display the end result."
   ]
  },
  {
   "cell_type": "code",
   "execution_count": 25,
   "id": "dee8bf3a",
   "metadata": {},
   "outputs": [],
   "source": [
    "import sys"
   ]
  },
  {
   "cell_type": "code",
   "execution_count": 26,
   "id": "8a4b61b1",
   "metadata": {},
   "outputs": [],
   "source": [
    "x=y=z=\"Bye\""
   ]
  },
  {
   "cell_type": "code",
   "execution_count": 27,
   "id": "340a0655",
   "metadata": {},
   "outputs": [
    {
     "name": "stdout",
     "output_type": "stream",
     "text": [
      "Bye\n"
     ]
    }
   ],
   "source": [
    "print(x,sep=\" \",end=\"\\n\", file=sys.stdout,flush=False)"
   ]
  },
  {
   "cell_type": "code",
   "execution_count": 28,
   "id": "3b4adc20",
   "metadata": {},
   "outputs": [
    {
     "data": {
      "text/plain": [
       "25"
      ]
     },
     "execution_count": 28,
     "metadata": {},
     "output_type": "execute_result"
    }
   ],
   "source": [
    "#With Python, it is possible to use the ** operator to calculate powers1:\n",
    "5**2"
   ]
  },
  {
   "cell_type": "code",
   "execution_count": 31,
   "id": "3d32bca0",
   "metadata": {},
   "outputs": [
    {
     "ename": "NameError",
     "evalue": "name 'p' is not defined",
     "output_type": "error",
     "traceback": [
      "\u001b[1;31m---------------------------------------------------------------------------\u001b[0m",
      "\u001b[1;31mNameError\u001b[0m                                 Traceback (most recent call last)",
      "Input \u001b[1;32mIn [31]\u001b[0m, in \u001b[0;36m<cell line: 2>\u001b[1;34m()\u001b[0m\n\u001b[0;32m      1\u001b[0m \u001b[38;5;66;03m#If a variable is not “defined” (assigned a value), trying to use it will give you an error:\u001b[39;00m\n\u001b[1;32m----> 2\u001b[0m p\n",
      "\u001b[1;31mNameError\u001b[0m: name 'p' is not defined"
     ]
    }
   ],
   "source": [
    "#If a variable is not “defined” (assigned a value), trying to use it will give you an error:\n",
    "p"
   ]
  },
  {
   "cell_type": "markdown",
   "id": "44f3269f",
   "metadata": {},
   "source": [
    "#In interactive mode, the last printed expression is assigned to the variable _. This means that when you are using 4\n",
    "#Python as a desk calculator, it is somewhat easier to continue calculations, for example:\n"
   ]
  },
  {
   "cell_type": "code",
   "execution_count": 47,
   "id": "d4fbc9b0",
   "metadata": {},
   "outputs": [
    {
     "data": {
      "text/plain": [
       "12.5625"
      ]
     },
     "execution_count": 47,
     "metadata": {},
     "output_type": "execute_result"
    }
   ],
   "source": [
    "    tax=12.5/100\n",
    "    price=100.50\n",
    "    price*tax"
   ]
  },
  {
   "cell_type": "code",
   "execution_count": 48,
   "id": "469a14ac",
   "metadata": {},
   "outputs": [
    {
     "data": {
      "text/plain": [
       "113.0625"
      ]
     },
     "execution_count": 48,
     "metadata": {},
     "output_type": "execute_result"
    }
   ],
   "source": [
    "# by adding _ is adding last variable value\n",
    "price+_"
   ]
  },
  {
   "cell_type": "code",
   "execution_count": 50,
   "id": "26b3f4f6",
   "metadata": {},
   "outputs": [
    {
     "data": {
      "text/plain": [
       "113.06"
      ]
     },
     "execution_count": 50,
     "metadata": {},
     "output_type": "execute_result"
    }
   ],
   "source": [
    "round(_,2)"
   ]
  }
 ],
 "metadata": {
  "kernelspec": {
   "display_name": "Python 3 (ipykernel)",
   "language": "python",
   "name": "python3"
  },
  "language_info": {
   "codemirror_mode": {
    "name": "ipython",
    "version": 3
   },
   "file_extension": ".py",
   "mimetype": "text/x-python",
   "name": "python",
   "nbconvert_exporter": "python",
   "pygments_lexer": "ipython3",
   "version": "3.9.7"
  }
 },
 "nbformat": 4,
 "nbformat_minor": 5
}
