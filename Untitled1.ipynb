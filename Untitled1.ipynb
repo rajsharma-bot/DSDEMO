{
 "cells": [
  {
   "cell_type": "markdown",
   "id": "bc997f81",
   "metadata": {},
   "source": [
    "# Python basic"
   ]
  },
  {
   "cell_type": "markdown",
   "id": "4cb7a99c",
   "metadata": {},
   "source": [
    "Floor division"
   ]
  },
  {
   "cell_type": "code",
   "execution_count": 48,
   "id": "d2c6f26d",
   "metadata": {},
   "outputs": [
    {
     "data": {
      "text/plain": [
       "5"
      ]
     },
     "execution_count": 48,
     "metadata": {},
     "output_type": "execute_result"
    }
   ],
   "source": [
    "10//2"
   ]
  },
  {
   "cell_type": "code",
   "execution_count": 49,
   "id": "8257288f",
   "metadata": {},
   "outputs": [
    {
     "data": {
      "text/plain": [
       "0"
      ]
     },
     "execution_count": 49,
     "metadata": {},
     "output_type": "execute_result"
    }
   ],
   "source": [
    "10%2"
   ]
  },
  {
   "cell_type": "code",
   "execution_count": 50,
   "id": "3c456ee7",
   "metadata": {},
   "outputs": [
    {
     "data": {
      "text/plain": [
       "1"
      ]
     },
     "execution_count": 50,
     "metadata": {},
     "output_type": "execute_result"
    }
   ],
   "source": [
    "11%2"
   ]
  },
  {
   "cell_type": "markdown",
   "id": "d64be320",
   "metadata": {},
   "source": [
    "Power"
   ]
  },
  {
   "cell_type": "code",
   "execution_count": 51,
   "id": "d9f2b50a",
   "metadata": {},
   "outputs": [
    {
     "data": {
      "text/plain": [
       "4"
      ]
     },
     "execution_count": 51,
     "metadata": {},
     "output_type": "execute_result"
    }
   ],
   "source": [
    "2**2"
   ]
  },
  {
   "cell_type": "code",
   "execution_count": 52,
   "id": "35350ed4",
   "metadata": {},
   "outputs": [
    {
     "data": {
      "text/plain": [
       "8"
      ]
     },
     "execution_count": 52,
     "metadata": {},
     "output_type": "execute_result"
    }
   ],
   "source": [
    "2**3"
   ]
  },
  {
   "cell_type": "code",
   "execution_count": 53,
   "id": "8e9098e3",
   "metadata": {},
   "outputs": [
    {
     "data": {
      "text/plain": [
       "512"
      ]
     },
     "execution_count": 53,
     "metadata": {},
     "output_type": "execute_result"
    }
   ],
   "source": [
    "8**3"
   ]
  },
  {
   "cell_type": "markdown",
   "id": "2699d20e",
   "metadata": {},
   "source": [
    "Working with Variables"
   ]
  },
  {
   "cell_type": "code",
   "execution_count": 54,
   "id": "c1a7b07f",
   "metadata": {},
   "outputs": [],
   "source": [
    "a=12"
   ]
  },
  {
   "cell_type": "code",
   "execution_count": 55,
   "id": "41619fcd",
   "metadata": {},
   "outputs": [],
   "source": [
    "b=15"
   ]
  },
  {
   "cell_type": "code",
   "execution_count": 56,
   "id": "9ceaf994",
   "metadata": {},
   "outputs": [],
   "source": [
    "c=a+b"
   ]
  },
  {
   "cell_type": "code",
   "execution_count": 57,
   "id": "68ecd2b3",
   "metadata": {},
   "outputs": [],
   "source": [
    "d=b-a"
   ]
  },
  {
   "cell_type": "code",
   "execution_count": 58,
   "id": "e21a7898",
   "metadata": {},
   "outputs": [],
   "source": [
    "e=a*b"
   ]
  },
  {
   "cell_type": "code",
   "execution_count": 59,
   "id": "2f9e8c05",
   "metadata": {},
   "outputs": [],
   "source": [
    "f=a**b"
   ]
  },
  {
   "cell_type": "code",
   "execution_count": 60,
   "id": "58cf8a61",
   "metadata": {},
   "outputs": [
    {
     "name": "stdout",
     "output_type": "stream",
     "text": [
      "C= 27\n"
     ]
    }
   ],
   "source": [
    "print(\"C=\",c)"
   ]
  },
  {
   "cell_type": "code",
   "execution_count": 61,
   "id": "33855baa",
   "metadata": {},
   "outputs": [
    {
     "name": "stdout",
     "output_type": "stream",
     "text": [
      "d= 3\n"
     ]
    }
   ],
   "source": [
    "print(\"d=\",d)"
   ]
  },
  {
   "cell_type": "code",
   "execution_count": 62,
   "id": "15c3ea55",
   "metadata": {},
   "outputs": [
    {
     "name": "stdout",
     "output_type": "stream",
     "text": [
      "f=  15407021574586368\n"
     ]
    }
   ],
   "source": [
    "print(\"f= \",f)"
   ]
  },
  {
   "cell_type": "code",
   "execution_count": 63,
   "id": "db9da0a0",
   "metadata": {},
   "outputs": [
    {
     "name": "stdout",
     "output_type": "stream",
     "text": [
      "E= 180\n"
     ]
    }
   ],
   "source": [
    "print(\"E=\",e)"
   ]
  },
  {
   "cell_type": "code",
   "execution_count": 64,
   "id": "f7efa0f0",
   "metadata": {},
   "outputs": [],
   "source": [
    "name=\"Raj Sharma\""
   ]
  },
  {
   "cell_type": "code",
   "execution_count": 65,
   "id": "6f44dd99",
   "metadata": {},
   "outputs": [
    {
     "data": {
      "text/plain": [
       "10"
      ]
     },
     "execution_count": 65,
     "metadata": {},
     "output_type": "execute_result"
    }
   ],
   "source": [
    "len(name)"
   ]
  },
  {
   "cell_type": "markdown",
   "id": "b44aa8ad",
   "metadata": {},
   "source": [
    "String concat"
   ]
  },
  {
   "cell_type": "code",
   "execution_count": 66,
   "id": "c0d33285",
   "metadata": {},
   "outputs": [
    {
     "data": {
      "text/plain": [
       "'Raj Sharma'"
      ]
     },
     "execution_count": 66,
     "metadata": {},
     "output_type": "execute_result"
    }
   ],
   "source": [
    "\"Raj \" +\"Sharma\""
   ]
  },
  {
   "cell_type": "code",
   "execution_count": 67,
   "id": "6b3c8d8f",
   "metadata": {},
   "outputs": [],
   "source": [
    "firstname=\"Yogi \""
   ]
  },
  {
   "cell_type": "code",
   "execution_count": 68,
   "id": "7b6bc550",
   "metadata": {},
   "outputs": [],
   "source": [
    "Lastname=\"Baba\""
   ]
  },
  {
   "cell_type": "code",
   "execution_count": 69,
   "id": "4cd6cfc2",
   "metadata": {},
   "outputs": [
    {
     "data": {
      "text/plain": [
       "'Yogi Baba'"
      ]
     },
     "execution_count": 69,
     "metadata": {},
     "output_type": "execute_result"
    }
   ],
   "source": [
    "firstname+Lastname"
   ]
  },
  {
   "cell_type": "markdown",
   "id": "a32ee396",
   "metadata": {},
   "source": [
    "Boolean operators"
   ]
  },
  {
   "cell_type": "code",
   "execution_count": 70,
   "id": "30468e3b",
   "metadata": {},
   "outputs": [],
   "source": [
    "a=20\n",
    "b=70"
   ]
  },
  {
   "cell_type": "code",
   "execution_count": 71,
   "id": "a5570bf0",
   "metadata": {},
   "outputs": [
    {
     "data": {
      "text/plain": [
       "False"
      ]
     },
     "execution_count": 71,
     "metadata": {},
     "output_type": "execute_result"
    }
   ],
   "source": [
    "a>b"
   ]
  },
  {
   "cell_type": "code",
   "execution_count": 72,
   "id": "2ea0bd9f",
   "metadata": {},
   "outputs": [
    {
     "data": {
      "text/plain": [
       "True"
      ]
     },
     "execution_count": 72,
     "metadata": {},
     "output_type": "execute_result"
    }
   ],
   "source": [
    "a<b"
   ]
  },
  {
   "cell_type": "code",
   "execution_count": 73,
   "id": "0a03c26a",
   "metadata": {},
   "outputs": [
    {
     "data": {
      "text/plain": [
       "False"
      ]
     },
     "execution_count": 73,
     "metadata": {},
     "output_type": "execute_result"
    }
   ],
   "source": [
    "a==b"
   ]
  },
  {
   "cell_type": "code",
   "execution_count": 74,
   "id": "830010dd",
   "metadata": {},
   "outputs": [
    {
     "data": {
      "text/plain": [
       "True"
      ]
     },
     "execution_count": 74,
     "metadata": {},
     "output_type": "execute_result"
    }
   ],
   "source": [
    "a!=b"
   ]
  },
  {
   "cell_type": "markdown",
   "id": "1a864583",
   "metadata": {},
   "source": [
    "User Input"
   ]
  },
  {
   "cell_type": "code",
   "execution_count": 75,
   "id": "2f84e873",
   "metadata": {},
   "outputs": [
    {
     "name": "stdout",
     "output_type": "stream",
     "text": [
      "Input any country nameindia\n"
     ]
    },
    {
     "data": {
      "text/plain": [
       "'india'"
      ]
     },
     "execution_count": 75,
     "metadata": {},
     "output_type": "execute_result"
    }
   ],
   "source": [
    "country=input(\"Input any country name\")\n",
    "country"
   ]
  },
  {
   "cell_type": "code",
   "execution_count": null,
   "id": "abbc972d",
   "metadata": {},
   "outputs": [],
   "source": []
  }
 ],
 "metadata": {
  "kernelspec": {
   "display_name": "Python 3 (ipykernel)",
   "language": "python",
   "name": "python3"
  },
  "language_info": {
   "codemirror_mode": {
    "name": "ipython",
    "version": 3
   },
   "file_extension": ".py",
   "mimetype": "text/x-python",
   "name": "python",
   "nbconvert_exporter": "python",
   "pygments_lexer": "ipython3",
   "version": "3.9.7"
  }
 },
 "nbformat": 4,
 "nbformat_minor": 5
}
