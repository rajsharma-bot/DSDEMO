{
 "cells": [
  {
   "cell_type": "markdown",
   "id": "3e9446ae",
   "metadata": {},
   "source": [
    "Dictionary"
   ]
  },
  {
   "cell_type": "markdown",
   "id": "9475bfb1",
   "metadata": {},
   "source": [
    "myDictionary={key:value,key2:value2,key3=value3} ------Syntax"
   ]
  },
  {
   "cell_type": "code",
   "execution_count": 3,
   "id": "6be718b0",
   "metadata": {},
   "outputs": [],
   "source": [
    "myDictionary={'EmpID':1,'Name':'Raj','Dept':'IT',88:'Test'}"
   ]
  },
  {
   "cell_type": "code",
   "execution_count": 4,
   "id": "1faa63ac",
   "metadata": {},
   "outputs": [
    {
     "data": {
      "text/plain": [
       "'Test'"
      ]
     },
     "execution_count": 4,
     "metadata": {},
     "output_type": "execute_result"
    }
   ],
   "source": [
    "myDictionary[88]"
   ]
  },
  {
   "cell_type": "code",
   "execution_count": 5,
   "id": "71a5791a",
   "metadata": {},
   "outputs": [
    {
     "data": {
      "text/plain": [
       "1"
      ]
     },
     "execution_count": 5,
     "metadata": {},
     "output_type": "execute_result"
    }
   ],
   "source": [
    "myDictionary['EmpID']"
   ]
  },
  {
   "cell_type": "code",
   "execution_count": 7,
   "id": "1eefa665",
   "metadata": {},
   "outputs": [
    {
     "data": {
      "text/plain": [
       "'IT'"
      ]
     },
     "execution_count": 7,
     "metadata": {},
     "output_type": "execute_result"
    }
   ],
   "source": [
    "myDictionary['Dept']"
   ]
  },
  {
   "cell_type": "code",
   "execution_count": 17,
   "id": "8c22d824",
   "metadata": {},
   "outputs": [],
   "source": [
    "myDictionary['Dept']='Sales'"
   ]
  },
  {
   "cell_type": "code",
   "execution_count": 18,
   "id": "af125f05",
   "metadata": {},
   "outputs": [
    {
     "data": {
      "text/plain": [
       "{'EmpID': 1, 'Name': 'Raj', 'Dept': 'Sales', 88: 'Test', 'Cell': 9919479331}"
      ]
     },
     "execution_count": 18,
     "metadata": {},
     "output_type": "execute_result"
    }
   ],
   "source": [
    "myDictionary"
   ]
  },
  {
   "cell_type": "code",
   "execution_count": 22,
   "id": "0c8f11a5",
   "metadata": {},
   "outputs": [],
   "source": [
    "myDictionary['Cell']=9919479331"
   ]
  },
  {
   "cell_type": "code",
   "execution_count": 23,
   "id": "e42d984e",
   "metadata": {},
   "outputs": [
    {
     "data": {
      "text/plain": [
       "{'EmpID': 1, 'Name': 'Raj', 'Dept': 'Sales', 88: 'Test', 'Cell': 9919479331}"
      ]
     },
     "execution_count": 23,
     "metadata": {},
     "output_type": "execute_result"
    }
   ],
   "source": [
    "myDictionary"
   ]
  },
  {
   "cell_type": "code",
   "execution_count": 26,
   "id": "b3c4b60c",
   "metadata": {},
   "outputs": [
    {
     "data": {
      "text/plain": [
       "dict_keys(['EmpID', 'Name', 'Dept', 88, 'Cell'])"
      ]
     },
     "execution_count": 26,
     "metadata": {},
     "output_type": "execute_result"
    }
   ],
   "source": [
    "myDictionary.keys() #.keys shows only keys"
   ]
  },
  {
   "cell_type": "code",
   "execution_count": 28,
   "id": "de19a23a",
   "metadata": {},
   "outputs": [
    {
     "data": {
      "text/plain": [
       "dict_values([1, 'Raj', 'Sales', 'Test', 9919479331])"
      ]
     },
     "execution_count": 28,
     "metadata": {},
     "output_type": "execute_result"
    }
   ],
   "source": [
    "myDictionary.values()#.values shows only values"
   ]
  },
  {
   "cell_type": "code",
   "execution_count": 30,
   "id": "8291ebac",
   "metadata": {},
   "outputs": [
    {
     "data": {
      "text/plain": [
       "dict_items([('EmpID', 1), ('Name', 'Raj'), ('Dept', 'Sales'), (88, 'Test'), ('Cell', 9919479331)])"
      ]
     },
     "execution_count": 30,
     "metadata": {},
     "output_type": "execute_result"
    }
   ],
   "source": [
    "myDictionary.items()#.items will  shows only keys and values"
   ]
  },
  {
   "cell_type": "code",
   "execution_count": 41,
   "id": "0b56e33b",
   "metadata": {},
   "outputs": [],
   "source": [
    "dic={'name':'Test,Test3'}"
   ]
  },
  {
   "cell_type": "code",
   "execution_count": 42,
   "id": "06497b3a",
   "metadata": {},
   "outputs": [
    {
     "data": {
      "text/plain": [
       "dict_items([('name', 'Test,Test3')])"
      ]
     },
     "execution_count": 42,
     "metadata": {},
     "output_type": "execute_result"
    }
   ],
   "source": [
    "dic.items()"
   ]
  },
  {
   "cell_type": "code",
   "execution_count": 44,
   "id": "a58c5a30",
   "metadata": {},
   "outputs": [
    {
     "data": {
      "text/plain": [
       "5"
      ]
     },
     "execution_count": 44,
     "metadata": {},
     "output_type": "execute_result"
    }
   ],
   "source": [
    "len(myDictionary)"
   ]
  },
  {
   "cell_type": "code",
   "execution_count": 46,
   "id": "35aab219",
   "metadata": {},
   "outputs": [
    {
     "name": "stdout",
     "output_type": "stream",
     "text": [
      "myDictionary['name']: Test,Test3\n"
     ]
    }
   ],
   "source": [
    "print(\"myDictionary['name']:\",dic['name'])"
   ]
  },
  {
   "cell_type": "code",
   "execution_count": 48,
   "id": "0df80676",
   "metadata": {},
   "outputs": [],
   "source": [
    "#adding new key value pair\n",
    "dic.update({'Fee':5000})"
   ]
  },
  {
   "cell_type": "code",
   "execution_count": 49,
   "id": "eb909ad2",
   "metadata": {},
   "outputs": [
    {
     "data": {
      "text/plain": [
       "dict_items([('name', 'Test,Test3'), ('Fee', 5000)])"
      ]
     },
     "execution_count": 49,
     "metadata": {},
     "output_type": "execute_result"
    }
   ],
   "source": [
    "dic.items()"
   ]
  },
  {
   "cell_type": "code",
   "execution_count": 53,
   "id": "bf859069",
   "metadata": {},
   "outputs": [
    {
     "name": "stdout",
     "output_type": "stream",
     "text": [
      "{'rock': 'brown', 'trees': 'green', 'apple': 'red', 'banana': 'Yellow'}\n"
     ]
    }
   ],
   "source": [
    "color={'rock':'brown','trees':'green','apple':'red','banana':'Yellow'}\n",
    "print(color)"
   ]
  },
  {
   "cell_type": "code",
   "execution_count": 54,
   "id": "b5d280b6",
   "metadata": {},
   "outputs": [
    {
     "data": {
      "text/plain": [
       "dict_keys(['rock', 'trees', 'apple', 'banana'])"
      ]
     },
     "execution_count": 54,
     "metadata": {},
     "output_type": "execute_result"
    }
   ],
   "source": [
    "color.keys()"
   ]
  },
  {
   "cell_type": "code",
   "execution_count": 55,
   "id": "66af4e84",
   "metadata": {},
   "outputs": [
    {
     "data": {
      "text/plain": [
       "dict_values(['brown', 'green', 'red', 'Yellow'])"
      ]
     },
     "execution_count": 55,
     "metadata": {},
     "output_type": "execute_result"
    }
   ],
   "source": [
    "color.values()"
   ]
  },
  {
   "cell_type": "code",
   "execution_count": 57,
   "id": "747600bc",
   "metadata": {},
   "outputs": [
    {
     "data": {
      "text/plain": [
       "dict_items([('rock', 'brown'), ('trees', 'green'), ('apple', 'red'), ('banana', 'Yellow')])"
      ]
     },
     "execution_count": 57,
     "metadata": {},
     "output_type": "execute_result"
    }
   ],
   "source": [
    "color.items()"
   ]
  },
  {
   "cell_type": "markdown",
   "id": "1717fbbd",
   "metadata": {},
   "source": [
    "Enhance operation in dictionary"
   ]
  },
  {
   "cell_type": "code",
   "execution_count": 68,
   "id": "3129c408",
   "metadata": {},
   "outputs": [
    {
     "name": "stdout",
     "output_type": "stream",
     "text": [
      "{10: 'C++', 20: 'Java', 30: 'Python', 40: 'Ruby'}\n"
     ]
    }
   ],
   "source": [
    "#dictionary with integer\n",
    "\n",
    "intdic={10:'C++',20:'Java',30:'Python',40:'Ruby'}\n",
    "print(intdic)"
   ]
  },
  {
   "cell_type": "code",
   "execution_count": 69,
   "id": "9595e322",
   "metadata": {},
   "outputs": [],
   "source": [
    "#Updating \n",
    "\n",
    "intdic.update({50:'Rails'})"
   ]
  },
  {
   "cell_type": "code",
   "execution_count": 70,
   "id": "7a50ef8b",
   "metadata": {},
   "outputs": [
    {
     "name": "stdout",
     "output_type": "stream",
     "text": [
      "{10: 'C++', 20: 'Java', 30: 'Python', 40: 'Ruby', 50: 'Rails'}\n"
     ]
    }
   ],
   "source": [
    "print(intdic)"
   ]
  },
  {
   "cell_type": "code",
   "execution_count": 71,
   "id": "f8475f30",
   "metadata": {},
   "outputs": [],
   "source": [
    "#del key\n",
    "\n",
    "del intdic[40]"
   ]
  },
  {
   "cell_type": "code",
   "execution_count": 72,
   "id": "11fa7fb8",
   "metadata": {},
   "outputs": [
    {
     "name": "stdout",
     "output_type": "stream",
     "text": [
      "{10: 'C++', 20: 'Java', 30: 'Python', 50: 'Rails'}\n"
     ]
    }
   ],
   "source": [
    "print(intdic)"
   ]
  },
  {
   "cell_type": "code",
   "execution_count": 73,
   "id": "16cce82a",
   "metadata": {},
   "outputs": [
    {
     "data": {
      "text/plain": [
       "'Rails'"
      ]
     },
     "execution_count": 73,
     "metadata": {},
     "output_type": "execute_result"
    }
   ],
   "source": [
    "#using POP\n",
    "\n",
    "intdic.pop(50)"
   ]
  },
  {
   "cell_type": "code",
   "execution_count": 74,
   "id": "2587016c",
   "metadata": {},
   "outputs": [
    {
     "name": "stdout",
     "output_type": "stream",
     "text": [
      "{10: 'C++', 20: 'Java', 30: 'Python'}\n"
     ]
    }
   ],
   "source": [
    "intdic.update({50:'Rails'})"
   ]
  },
  {
   "cell_type": "code",
   "execution_count": 75,
   "id": "5db196fb",
   "metadata": {},
   "outputs": [],
   "source": [
    "intdic.update({40:'Rails'})"
   ]
  },
  {
   "cell_type": "code",
   "execution_count": 77,
   "id": "396cc0e9",
   "metadata": {},
   "outputs": [
    {
     "name": "stdout",
     "output_type": "stream",
     "text": [
      "{10: 'C++', 20: 'Java', 30: 'Python', 40: 'Rails'}\n"
     ]
    }
   ],
   "source": [
    "print(intdic)"
   ]
  },
  {
   "cell_type": "code",
   "execution_count": 78,
   "id": "f3da8553",
   "metadata": {},
   "outputs": [],
   "source": [
    "intdic[40]='Csharp'"
   ]
  },
  {
   "cell_type": "code",
   "execution_count": 79,
   "id": "3ade20e9",
   "metadata": {},
   "outputs": [
    {
     "name": "stdout",
     "output_type": "stream",
     "text": [
      "{10: 'C++', 20: 'Java', 30: 'Python', 40: 'Csharp'}\n"
     ]
    }
   ],
   "source": [
    "print(intdic)"
   ]
  },
  {
   "cell_type": "code",
   "execution_count": 85,
   "id": "f43f766a",
   "metadata": {},
   "outputs": [
    {
     "data": {
      "text/plain": [
       "{'id': [1, 2, 3],\n",
       " 'Name': ['Mac', 'Jac', 'Crack'],\n",
       " 'grade': ['first', 'second', 'third']}"
      ]
     },
     "execution_count": 85,
     "metadata": {},
     "output_type": "execute_result"
    }
   ],
   "source": [
    "#multiple values for dictionary\n",
    "\n",
    "muldic={'id':[1,2,3],'Name':['Mac','Jac','Crack'],'grade':['first','second','third']}\n",
    "muldic"
   ]
  },
  {
   "cell_type": "code",
   "execution_count": 84,
   "id": "2b3cc5f7",
   "metadata": {},
   "outputs": [
    {
     "data": {
      "text/plain": [
       "{1: ['Red', 'blue', 'Black'],\n",
       " 2: ['Apple', 'Mango', 'Banana'],\n",
       " 3: ['Java', 'Python', 'R']}"
      ]
     },
     "execution_count": 84,
     "metadata": {},
     "output_type": "execute_result"
    }
   ],
   "source": [
    "muldic3={1:['Red','blue','Black'],2:['Apple','Mango','Banana'],3:['Java','Python','R']}\n",
    "muldic3"
   ]
  },
  {
   "cell_type": "code",
   "execution_count": 91,
   "id": "67070b4e",
   "metadata": {},
   "outputs": [
    {
     "data": {
      "text/plain": [
       "dict_keys([1, 2, 3])"
      ]
     },
     "execution_count": 91,
     "metadata": {},
     "output_type": "execute_result"
    }
   ],
   "source": [
    "muldic3.keys()"
   ]
  },
  {
   "cell_type": "code",
   "execution_count": 90,
   "id": "fe2dc79b",
   "metadata": {},
   "outputs": [
    {
     "data": {
      "text/plain": [
       "dict_values([['Red', 'blue', 'Black'], ['Apple', 'Mango', 'Banana'], ['Java', 'Python', 'R']])"
      ]
     },
     "execution_count": 90,
     "metadata": {},
     "output_type": "execute_result"
    }
   ],
   "source": [
    "muldic3.values()"
   ]
  },
  {
   "cell_type": "code",
   "execution_count": 94,
   "id": "9a56744d",
   "metadata": {},
   "outputs": [
    {
     "data": {
      "text/plain": [
       "dict_items([(1, ['Red', 'blue', 'Black']), (2, ['Apple', 'Mango', 'Banana']), (3, ['Java', 'Python', 'R'])])"
      ]
     },
     "execution_count": 94,
     "metadata": {},
     "output_type": "execute_result"
    }
   ],
   "source": [
    "\n",
    "muldic3.items()"
   ]
  },
  {
   "cell_type": "code",
   "execution_count": 95,
   "id": "e7734e36",
   "metadata": {},
   "outputs": [],
   "source": [
    "#clearing dic\n",
    "muldic.clear()"
   ]
  },
  {
   "cell_type": "code",
   "execution_count": 96,
   "id": "0c3bb941",
   "metadata": {},
   "outputs": [
    {
     "data": {
      "text/plain": [
       "{}"
      ]
     },
     "execution_count": 96,
     "metadata": {},
     "output_type": "execute_result"
    }
   ],
   "source": [
    "muldic"
   ]
  },
  {
   "cell_type": "code",
   "execution_count": 97,
   "id": "14742073",
   "metadata": {},
   "outputs": [],
   "source": [
    "#deleting dic\n",
    "del muldic"
   ]
  },
  {
   "cell_type": "code",
   "execution_count": 98,
   "id": "645d32e2",
   "metadata": {},
   "outputs": [
    {
     "ename": "NameError",
     "evalue": "name 'muldic' is not defined",
     "output_type": "error",
     "traceback": [
      "\u001b[1;31m---------------------------------------------------------------------------\u001b[0m",
      "\u001b[1;31mNameError\u001b[0m                                 Traceback (most recent call last)",
      "Input \u001b[1;32mIn [98]\u001b[0m, in \u001b[0;36m<cell line: 1>\u001b[1;34m()\u001b[0m\n\u001b[1;32m----> 1\u001b[0m muldic\n",
      "\u001b[1;31mNameError\u001b[0m: name 'muldic' is not defined"
     ]
    }
   ],
   "source": [
    "muldic"
   ]
  }
 ],
 "metadata": {
  "kernelspec": {
   "display_name": "Python 3 (ipykernel)",
   "language": "python",
   "name": "python3"
  },
  "language_info": {
   "codemirror_mode": {
    "name": "ipython",
    "version": 3
   },
   "file_extension": ".py",
   "mimetype": "text/x-python",
   "name": "python",
   "nbconvert_exporter": "python",
   "pygments_lexer": "ipython3",
   "version": "3.9.7"
  }
 },
 "nbformat": 4,
 "nbformat_minor": 5
}
