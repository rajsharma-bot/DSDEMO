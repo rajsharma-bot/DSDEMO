{
 "cells": [
  {
   "cell_type": "markdown",
   "id": "d8764e3e",
   "metadata": {},
   "source": [
    "# Type Casting"
   ]
  },
  {
   "cell_type": "markdown",
   "id": "3bbd2b79",
   "metadata": {},
   "source": [
    "With help of type casting we can change/convert data type"
   ]
  },
  {
   "cell_type": "code",
   "execution_count": 1,
   "id": "c24c0036",
   "metadata": {},
   "outputs": [
    {
     "data": {
      "text/plain": [
       "int"
      ]
     },
     "execution_count": 1,
     "metadata": {},
     "output_type": "execute_result"
    }
   ],
   "source": [
    "type(90)"
   ]
  },
  {
   "cell_type": "code",
   "execution_count": 2,
   "id": "8f93b329",
   "metadata": {},
   "outputs": [
    {
     "data": {
      "text/plain": [
       "str"
      ]
     },
     "execution_count": 2,
     "metadata": {},
     "output_type": "execute_result"
    }
   ],
   "source": [
    "type(\"Test\")"
   ]
  },
  {
   "cell_type": "code",
   "execution_count": 4,
   "id": "da626fd2",
   "metadata": {},
   "outputs": [
    {
     "data": {
      "text/plain": [
       "str"
      ]
     },
     "execution_count": 4,
     "metadata": {},
     "output_type": "execute_result"
    }
   ],
   "source": [
    "type('Test')"
   ]
  },
  {
   "cell_type": "code",
   "execution_count": 20,
   "id": "b586d7b9",
   "metadata": {},
   "outputs": [],
   "source": [
    "p=30"
   ]
  },
  {
   "cell_type": "code",
   "execution_count": 10,
   "id": "86ed8b18",
   "metadata": {},
   "outputs": [
    {
     "data": {
      "text/plain": [
       "int"
      ]
     },
     "execution_count": 10,
     "metadata": {},
     "output_type": "execute_result"
    }
   ],
   "source": [
    "type(p)"
   ]
  },
  {
   "cell_type": "code",
   "execution_count": 7,
   "id": "bc4ebe40",
   "metadata": {},
   "outputs": [],
   "source": [
    "string=\"Mumbai\""
   ]
  },
  {
   "cell_type": "code",
   "execution_count": 8,
   "id": "9f0d6500",
   "metadata": {},
   "outputs": [
    {
     "data": {
      "text/plain": [
       "str"
      ]
     },
     "execution_count": 8,
     "metadata": {},
     "output_type": "execute_result"
    }
   ],
   "source": [
    "type(string)"
   ]
  },
  {
   "cell_type": "code",
   "execution_count": 9,
   "id": "b05c2050",
   "metadata": {},
   "outputs": [
    {
     "data": {
      "text/plain": [
       "float"
      ]
     },
     "execution_count": 9,
     "metadata": {},
     "output_type": "execute_result"
    }
   ],
   "source": [
    "type(20.65)"
   ]
  },
  {
   "cell_type": "code",
   "execution_count": 22,
   "id": "642be19b",
   "metadata": {},
   "outputs": [],
   "source": [
    "j=float(p)"
   ]
  },
  {
   "cell_type": "code",
   "execution_count": 23,
   "id": "b49cad0b",
   "metadata": {},
   "outputs": [
    {
     "data": {
      "text/plain": [
       "float"
      ]
     },
     "execution_count": 23,
     "metadata": {},
     "output_type": "execute_result"
    }
   ],
   "source": [
    "type(j)"
   ]
  },
  {
   "cell_type": "markdown",
   "id": "bd89d7d2",
   "metadata": {},
   "source": [
    "# Converting int/float to string"
   ]
  },
  {
   "cell_type": "code",
   "execution_count": 24,
   "id": "e210851b",
   "metadata": {},
   "outputs": [],
   "source": [
    "k=str(j)"
   ]
  },
  {
   "cell_type": "code",
   "execution_count": 25,
   "id": "c2618f29",
   "metadata": {},
   "outputs": [
    {
     "name": "stdout",
     "output_type": "stream",
     "text": [
      "Mumbai  Temp is :  30.0\n"
     ]
    }
   ],
   "source": [
    "print(string,\" Temp is : \",j)"
   ]
  },
  {
   "cell_type": "code",
   "execution_count": 26,
   "id": "40546e87",
   "metadata": {},
   "outputs": [],
   "source": [
    "x=\"20\""
   ]
  },
  {
   "cell_type": "code",
   "execution_count": 27,
   "id": "58981c03",
   "metadata": {},
   "outputs": [
    {
     "data": {
      "text/plain": [
       "str"
      ]
     },
     "execution_count": 27,
     "metadata": {},
     "output_type": "execute_result"
    }
   ],
   "source": [
    "type(x)"
   ]
  },
  {
   "cell_type": "code",
   "execution_count": 28,
   "id": "3409b2be",
   "metadata": {},
   "outputs": [],
   "source": [
    "y=int(x)"
   ]
  },
  {
   "cell_type": "code",
   "execution_count": 29,
   "id": "bc405095",
   "metadata": {},
   "outputs": [
    {
     "data": {
      "text/plain": [
       "int"
      ]
     },
     "execution_count": 29,
     "metadata": {},
     "output_type": "execute_result"
    }
   ],
   "source": [
    "type(y)"
   ]
  },
  {
   "cell_type": "code",
   "execution_count": 30,
   "id": "ef36bf65",
   "metadata": {},
   "outputs": [],
   "source": [
    "z=float(y)"
   ]
  },
  {
   "cell_type": "code",
   "execution_count": 31,
   "id": "54747361",
   "metadata": {},
   "outputs": [
    {
     "data": {
      "text/plain": [
       "float"
      ]
     },
     "execution_count": 31,
     "metadata": {},
     "output_type": "execute_result"
    }
   ],
   "source": [
    "type(z)"
   ]
  },
  {
   "cell_type": "markdown",
   "id": "6182fce7",
   "metadata": {},
   "source": [
    "# Input function will always gives us String values"
   ]
  },
  {
   "cell_type": "code",
   "execution_count": 40,
   "id": "f2f6ab22",
   "metadata": {},
   "outputs": [
    {
     "name": "stdout",
     "output_type": "stream",
     "text": [
      "Enter 1st number 50\n"
     ]
    },
    {
     "data": {
      "text/plain": [
       "'50'"
      ]
     },
     "execution_count": 40,
     "metadata": {},
     "output_type": "execute_result"
    }
   ],
   "source": [
    "a=input(\"Enter 1st number \")\n",
    "a"
   ]
  },
  {
   "cell_type": "code",
   "execution_count": 41,
   "id": "acc88f0a",
   "metadata": {},
   "outputs": [
    {
     "name": "stdout",
     "output_type": "stream",
     "text": [
      "Enter 2nd number 10\n"
     ]
    },
    {
     "data": {
      "text/plain": [
       "'10'"
      ]
     },
     "execution_count": 41,
     "metadata": {},
     "output_type": "execute_result"
    }
   ],
   "source": [
    "b=input(\"Enter 2nd number \")\n",
    "b"
   ]
  },
  {
   "cell_type": "code",
   "execution_count": 42,
   "id": "c58b10e2",
   "metadata": {},
   "outputs": [
    {
     "data": {
      "text/plain": [
       "str"
      ]
     },
     "execution_count": 42,
     "metadata": {},
     "output_type": "execute_result"
    }
   ],
   "source": [
    "type(a)"
   ]
  },
  {
   "cell_type": "code",
   "execution_count": 43,
   "id": "ba52dc4a",
   "metadata": {},
   "outputs": [
    {
     "data": {
      "text/plain": [
       "str"
      ]
     },
     "execution_count": 43,
     "metadata": {},
     "output_type": "execute_result"
    }
   ],
   "source": [
    "type(b)"
   ]
  },
  {
   "cell_type": "code",
   "execution_count": 44,
   "id": "0ac4e1e4",
   "metadata": {},
   "outputs": [
    {
     "data": {
      "text/plain": [
       "'5010'"
      ]
     },
     "execution_count": 44,
     "metadata": {},
     "output_type": "execute_result"
    }
   ],
   "source": [
    "a+b"
   ]
  },
  {
   "cell_type": "code",
   "execution_count": 45,
   "id": "7bedbb0b",
   "metadata": {},
   "outputs": [
    {
     "data": {
      "text/plain": [
       "60"
      ]
     },
     "execution_count": 45,
     "metadata": {},
     "output_type": "execute_result"
    }
   ],
   "source": [
    "int(a)+int(b)"
   ]
  },
  {
   "cell_type": "code",
   "execution_count": 57,
   "id": "6da835d1",
   "metadata": {},
   "outputs": [
    {
     "name": "stdout",
     "output_type": "stream",
     "text": [
      "Enter 1st number 20\n"
     ]
    }
   ],
   "source": [
    "num1=int(input(\"Enter 1st number \"))"
   ]
  },
  {
   "cell_type": "code",
   "execution_count": 61,
   "id": "a8463f21",
   "metadata": {},
   "outputs": [
    {
     "name": "stdout",
     "output_type": "stream",
     "text": [
      "Enter 2nd number 41\n"
     ]
    }
   ],
   "source": [
    "num2=int(input(\"Enter 2nd number \"))"
   ]
  },
  {
   "cell_type": "code",
   "execution_count": 62,
   "id": "248851a3",
   "metadata": {},
   "outputs": [
    {
     "data": {
      "text/plain": [
       "61"
      ]
     },
     "execution_count": 62,
     "metadata": {},
     "output_type": "execute_result"
    }
   ],
   "source": [
    "num1+num2"
   ]
  },
  {
   "cell_type": "markdown",
   "id": "896c0936",
   "metadata": {},
   "source": [
    "# AREA OF RECTANGLE"
   ]
  },
  {
   "cell_type": "code",
   "execution_count": 56,
   "id": "564263b1",
   "metadata": {},
   "outputs": [
    {
     "name": "stdout",
     "output_type": "stream",
     "text": [
      "Enter Length 50\n",
      "Enter Breadth 10\n",
      "Length is :  50 Breadth is :  10\n",
      "Area of Rectangle is =  500\n"
     ]
    }
   ],
   "source": [
    "Length=int(input(\"Enter Length \"))\n",
    "Breadth=int(input(\"Enter Breadth \"))\n",
    "print(\"Length is : \",a , \"Breadth is : \",b)\n",
    "area=Length*Breadth\n",
    "print(\"Area of Rectangle is = \",area)"
   ]
  },
  {
   "cell_type": "markdown",
   "id": "fb5c9bff",
   "metadata": {},
   "source": [
    "# Area of Circle  πr²"
   ]
  },
  {
   "cell_type": "code",
   "execution_count": 69,
   "id": "14e2126c",
   "metadata": {},
   "outputs": [
    {
     "name": "stdout",
     "output_type": "stream",
     "text": [
      "Enter value for PI 3.14\n",
      "Enter value for Radius 6\n",
      "Value of PI is :  3.14 and Radius is =  6\n",
      "Area of Circle is =  113.04\n"
     ]
    }
   ],
   "source": [
    "Pi=float(input(\"Enter value for PI \"))\n",
    "radius=int(input(\"Enter value for Radius \"))\n",
    "print(\"Value of PI is : \",Pi ,\"and Radius is = \",radius)\n",
    "area=Pi*(radius**2)\n",
    "print(\"Area of Circle is = \", area)"
   ]
  },
  {
   "cell_type": "code",
   "execution_count": 70,
   "id": "8520e23e",
   "metadata": {},
   "outputs": [
    {
     "name": "stdout",
     "output_type": "stream",
     "text": [
      "2061438729840\n"
     ]
    }
   ],
   "source": [
    "print(id(Pi))"
   ]
  },
  {
   "cell_type": "markdown",
   "id": "6661501c",
   "metadata": {},
   "source": [
    "# Area of Triangle 1/2 * base* height"
   ]
  },
  {
   "cell_type": "code",
   "execution_count": 72,
   "id": "a34e5787",
   "metadata": {},
   "outputs": [
    {
     "name": "stdout",
     "output_type": "stream",
     "text": [
      "Enter value for Base 10\n",
      "Enter value for Height 20\n",
      "Base is :  10  Heigth is :  20\n",
      "Area of Triangle is =  100.0\n"
     ]
    }
   ],
   "source": [
    "base=int(input(\"Enter value for Base \"))\n",
    "height=int(input(\"Enter value for Height \"))\n",
    "print(\"Base is : \", base, \" Heigth is : \",height)\n",
    "area=0.5*base*height\n",
    "print(\"Area of Triangle is = \",area)\n"
   ]
  },
  {
   "cell_type": "markdown",
   "id": "46518695",
   "metadata": {},
   "source": [
    "# circumference of circle 2πr"
   ]
  },
  {
   "cell_type": "code",
   "execution_count": 81,
   "id": "b5dde142",
   "metadata": {},
   "outputs": [
    {
     "name": "stdout",
     "output_type": "stream",
     "text": [
      "Enter Radius 6.5\n",
      "circumference of circle is = 40.82\n"
     ]
    }
   ],
   "source": [
    "#We can use round function to round values upto desire decimal\n",
    "rad=float(input(\"Enter Radius \"))\n",
    "pi=3.14\n",
    "circ=2*pi*rad\n",
    "#round(circ,2)\n",
    "print(\"circumference of circle is =\",circ)\n"
   ]
  },
  {
   "cell_type": "code",
   "execution_count": 76,
   "id": "d6130ec5",
   "metadata": {},
   "outputs": [],
   "source": [
    "d=57.56565515656646545456"
   ]
  },
  {
   "cell_type": "code",
   "execution_count": 77,
   "id": "3d8f878c",
   "metadata": {},
   "outputs": [
    {
     "data": {
      "text/plain": [
       "57.566"
      ]
     },
     "execution_count": 77,
     "metadata": {},
     "output_type": "execute_result"
    }
   ],
   "source": [
    "round(d,3)"
   ]
  },
  {
   "cell_type": "code",
   "execution_count": 78,
   "id": "40548892",
   "metadata": {},
   "outputs": [
    {
     "data": {
      "text/plain": [
       "57.57"
      ]
     },
     "execution_count": 78,
     "metadata": {},
     "output_type": "execute_result"
    }
   ],
   "source": [
    "round(d,2)"
   ]
  }
 ],
 "metadata": {
  "kernelspec": {
   "display_name": "Python 3 (ipykernel)",
   "language": "python",
   "name": "python3"
  },
  "language_info": {
   "codemirror_mode": {
    "name": "ipython",
    "version": 3
   },
   "file_extension": ".py",
   "mimetype": "text/x-python",
   "name": "python",
   "nbconvert_exporter": "python",
   "pygments_lexer": "ipython3",
   "version": "3.9.7"
  }
 },
 "nbformat": 4,
 "nbformat_minor": 5
}
