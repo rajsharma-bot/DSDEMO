{
 "cells": [
  {
   "cell_type": "markdown",
   "id": "f3f32bd7",
   "metadata": {},
   "source": [
    "# Branching(If/else/ elif)"
   ]
  },
  {
   "cell_type": "markdown",
   "id": "a1543434",
   "metadata": {},
   "source": [
    "Python provides the if statement to allow branching based on conditions.\n",
    "Multiple elif checks can also be performed followed by an optional else clause.\n",
    "The if statement can be used with any evaluation of truthiness.\n",
    "\n",
    "\"<\" = less then\n",
    "\">\" = greater then"
   ]
  },
  {
   "cell_type": "code",
   "execution_count": 5,
   "id": "bf96cfaf",
   "metadata": {},
   "outputs": [
    {
     "name": "stdout",
     "output_type": "stream",
     "text": [
      "Less then 5\n"
     ]
    }
   ],
   "source": [
    "#i < 3 means i is greater than 3 , \"<\" denotes less  than symbol\n",
    "\n",
    "i=4\n",
    "if i<3:\n",
    "    print('Less then 3')\n",
    "elif i<5:\n",
    "    print('Less then 5')\n",
    "else:\n",
    "    print('5 or more')"
   ]
  },
  {
   "cell_type": "code",
   "execution_count": 8,
   "id": "17c1fd16",
   "metadata": {},
   "outputs": [
    {
     "name": "stdout",
     "output_type": "stream",
     "text": [
      "i is greater than j\n"
     ]
    }
   ],
   "source": [
    "i=29\n",
    "j=27\n",
    "if i>j: print(\"i is greater than j\")"
   ]
  },
  {
   "cell_type": "code",
   "execution_count": 10,
   "id": "c58965aa",
   "metadata": {},
   "outputs": [
    {
     "name": "stdout",
     "output_type": "stream",
     "text": [
      "A\n"
     ]
    }
   ],
   "source": [
    "a=330\n",
    "b=329\n",
    "print(\"A\") if a>b else print(\"B\")"
   ]
  },
  {
   "cell_type": "code",
   "execution_count": 11,
   "id": "4862c2ad",
   "metadata": {},
   "outputs": [
    {
     "name": "stdout",
     "output_type": "stream",
     "text": [
      "Its Equal\n"
     ]
    }
   ],
   "source": [
    "a=330\n",
    "b=330\n",
    "print(\"A\") if a>b else print(\"Its Equal\") if a==b else print(\"B\")"
   ]
  },
  {
   "cell_type": "code",
   "execution_count": 23,
   "id": "b94fe2a7",
   "metadata": {},
   "outputs": [],
   "source": [
    "x=330\n",
    "y=150\n",
    "z=65\n",
    "\n",
    "if x > y and z > x:\n",
    "    print(\"Both condition are true\")"
   ]
  },
  {
   "cell_type": "code",
   "execution_count": 24,
   "id": "06e3af16",
   "metadata": {},
   "outputs": [
    {
     "name": "stdout",
     "output_type": "stream",
     "text": [
      "At least one condition is true\n"
     ]
    }
   ],
   "source": [
    "x=330\n",
    "y=150\n",
    "z=65\n",
    "\n",
    "if x > y or  z > x:\n",
    "    print(\"At least one condition is true\")"
   ]
  },
  {
   "cell_type": "code",
   "execution_count": 31,
   "id": "ddb54fa9",
   "metadata": {},
   "outputs": [
    {
     "name": "stdout",
     "output_type": "stream",
     "text": [
      "Above 10\n",
      "but not above 20.\n"
     ]
    }
   ],
   "source": [
    "x=65\n",
    "\n",
    "if x>60:\n",
    "    print(\"Above 10\")\n",
    "    if x>80: #change to 80\n",
    "        print(\"and also above 20\")\n",
    "    else:\n",
    "        print(\"but not above 20.\")"
   ]
  },
  {
   "cell_type": "code",
   "execution_count": 33,
   "id": "303a8fb4",
   "metadata": {},
   "outputs": [],
   "source": [
    "a=33\n",
    "b=200\n",
    "\n",
    "if b>a:\n",
    "    pass"
   ]
  },
  {
   "cell_type": "code",
   "execution_count": 34,
   "id": "6572c98d",
   "metadata": {},
   "outputs": [
    {
     "name": "stdout",
     "output_type": "stream",
     "text": [
      "i is 20\n"
     ]
    }
   ],
   "source": [
    "i=20\n",
    "if(i==10):\n",
    "    print(\"i is 10\")\n",
    "elif(i==15):\n",
    "    print(\"i is 15\")\n",
    "elif(i==20):\n",
    "    print(\"i is 20\")\n",
    "else:\n",
    "    print(\"i is something else\")"
   ]
  },
  {
   "cell_type": "code",
   "execution_count": 38,
   "id": "0abda4cd",
   "metadata": {},
   "outputs": [
    {
     "name": "stdout",
     "output_type": "stream",
     "text": [
      "None\n"
     ]
    }
   ],
   "source": [
    " a = True + True + True + 2 - False\n",
    " b = 5*(True) + False\n",
    "\n",
    " print(\"A\") if a > b else print(\"None\") if a == b else print(\"B\")"
   ]
  },
  {
   "cell_type": "code",
   "execution_count": 43,
   "id": "56b2adeb",
   "metadata": {},
   "outputs": [
    {
     "name": "stdout",
     "output_type": "stream",
     "text": [
      "5\n"
     ]
    }
   ],
   "source": [
    "a=True+True+True+2-False\n",
    "print(a)"
   ]
  },
  {
   "cell_type": "code",
   "execution_count": 44,
   "id": "76020a90",
   "metadata": {},
   "outputs": [
    {
     "name": "stdout",
     "output_type": "stream",
     "text": [
      "5\n"
     ]
    }
   ],
   "source": [
    "b=5*(True)+False\n",
    "print(b)"
   ]
  },
  {
   "cell_type": "code",
   "execution_count": 49,
   "id": "bc0e3e88",
   "metadata": {},
   "outputs": [
    {
     "name": "stdout",
     "output_type": "stream",
     "text": [
      "1\n"
     ]
    }
   ],
   "source": [
    "a=True+False\n",
    "print(a)"
   ]
  }
 ],
 "metadata": {
  "kernelspec": {
   "display_name": "Python 3 (ipykernel)",
   "language": "python",
   "name": "python3"
  },
  "language_info": {
   "codemirror_mode": {
    "name": "ipython",
    "version": 3
   },
   "file_extension": ".py",
   "mimetype": "text/x-python",
   "name": "python",
   "nbconvert_exporter": "python",
   "pygments_lexer": "ipython3",
   "version": "3.9.7"
  }
 },
 "nbformat": 4,
 "nbformat_minor": 5
}
