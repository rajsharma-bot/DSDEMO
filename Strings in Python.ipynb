{
 "cells": [
  {
   "cell_type": "code",
   "execution_count": 5,
   "id": "543be3ca",
   "metadata": {},
   "outputs": [
    {
     "data": {
      "text/plain": [
       "'Spam eggs'"
      ]
     },
     "execution_count": 5,
     "metadata": {},
     "output_type": "execute_result"
    }
   ],
   "source": [
    "'Spam eggs' #Single quotes"
   ]
  },
  {
   "cell_type": "code",
   "execution_count": 6,
   "id": "0cd8e070",
   "metadata": {},
   "outputs": [
    {
     "data": {
      "text/plain": [
       "\"doesn't\""
      ]
     },
     "execution_count": 6,
     "metadata": {},
     "output_type": "execute_result"
    }
   ],
   "source": [
    "'doesn\\'t' #use \\' to escape the single quote.."
   ]
  },
  {
   "cell_type": "code",
   "execution_count": 7,
   "id": "d874c48f",
   "metadata": {},
   "outputs": [
    {
     "data": {
      "text/plain": [
       "\"doesn't\""
      ]
     },
     "execution_count": 7,
     "metadata": {},
     "output_type": "execute_result"
    }
   ],
   "source": [
    "\"doesn't\" # ... or use double quotes instead"
   ]
  },
  {
   "cell_type": "code",
   "execution_count": 8,
   "id": "c567ffa7",
   "metadata": {},
   "outputs": [
    {
     "data": {
      "text/plain": [
       "'\"Yes,\" He said.'"
      ]
     },
     "execution_count": 8,
     "metadata": {},
     "output_type": "execute_result"
    }
   ],
   "source": [
    "'\"Yes,\" He said.'"
   ]
  },
  {
   "cell_type": "code",
   "execution_count": 9,
   "id": "2a072119",
   "metadata": {},
   "outputs": [
    {
     "data": {
      "text/plain": [
       "'\"yes,\"He said'"
      ]
     },
     "execution_count": 9,
     "metadata": {},
     "output_type": "execute_result"
    }
   ],
   "source": [
    "\"\\\"yes,\\\"He said\""
   ]
  },
  {
   "cell_type": "code",
   "execution_count": 12,
   "id": "93017fa3",
   "metadata": {},
   "outputs": [
    {
     "data": {
      "text/plain": [
       "'\"Isn\\'t,\" She said.'"
      ]
     },
     "execution_count": 12,
     "metadata": {},
     "output_type": "execute_result"
    }
   ],
   "source": [
    "'\"Isn\\'t,\" She said.'"
   ]
  },
  {
   "cell_type": "code",
   "execution_count": 5,
   "id": "1639a77a",
   "metadata": {},
   "outputs": [
    {
     "name": "stdout",
     "output_type": "stream",
     "text": [
      "First line. \n",
      "Second line.\n"
     ]
    }
   ],
   "source": [
    "s='First line. \\nSecond line.'\n",
    "print(s)"
   ]
  },
  {
   "cell_type": "markdown",
   "id": "53123b0d",
   "metadata": {},
   "source": [
    "If you don’t want characters prefaced by to be interpreted as special characters, you can use raw strings by adding an r before\n",
    "the first quote:"
   ]
  },
  {
   "cell_type": "code",
   "execution_count": 7,
   "id": "4bd580c7",
   "metadata": {},
   "outputs": [
    {
     "name": "stdout",
     "output_type": "stream",
     "text": [
      "C:\\Some\n",
      "ame\n"
     ]
    }
   ],
   "source": [
    "print('C:\\Some\\name')\n"
   ]
  },
  {
   "cell_type": "code",
   "execution_count": 8,
   "id": "078e9c06",
   "metadata": {},
   "outputs": [
    {
     "name": "stdout",
     "output_type": "stream",
     "text": [
      "C:\\some\\name\n"
     ]
    }
   ],
   "source": [
    "print(r'C:\\some\\name')"
   ]
  },
  {
   "cell_type": "code",
   "execution_count": 9,
   "id": "e8a6da6a",
   "metadata": {},
   "outputs": [
    {
     "name": "stdout",
     "output_type": "stream",
     "text": [
      "Usage: Things [OPTIONS]\n",
      "-h\n",
      "-H hostname\n",
      "\n"
     ]
    }
   ],
   "source": [
    "print(\"\"\"\\\n",
    "Usage: Things [OPTIONS]\n",
    "-h\n",
    "-H hostname\n",
    "\"\"\")"
   ]
  },
  {
   "cell_type": "markdown",
   "id": "edc58101",
   "metadata": {},
   "source": [
    "Strings can be concatenated (glued together) with the + operator, and repeated with *:"
   ]
  },
  {
   "cell_type": "code",
   "execution_count": 12,
   "id": "118043dd",
   "metadata": {},
   "outputs": [
    {
     "data": {
      "text/plain": [
       "'unununium'"
      ]
     },
     "execution_count": 12,
     "metadata": {},
     "output_type": "execute_result"
    }
   ],
   "source": [
    "#3 Times 'un',followed by 'ium'\n",
    "3*'un'+'ium'"
   ]
  },
  {
   "cell_type": "code",
   "execution_count": 13,
   "id": "0d4d9f9c",
   "metadata": {},
   "outputs": [
    {
     "data": {
      "text/plain": [
       "'PyTH0n'"
      ]
     },
     "execution_count": 13,
     "metadata": {},
     "output_type": "execute_result"
    }
   ],
   "source": [
    "'Py''TH''0n'"
   ]
  }
 ],
 "metadata": {
  "kernelspec": {
   "display_name": "Python 3 (ipykernel)",
   "language": "python",
   "name": "python3"
  },
  "language_info": {
   "codemirror_mode": {
    "name": "ipython",
    "version": 3
   },
   "file_extension": ".py",
   "mimetype": "text/x-python",
   "name": "python",
   "nbconvert_exporter": "python",
   "pygments_lexer": "ipython3",
   "version": "3.9.7"
  }
 },
 "nbformat": 4,
 "nbformat_minor": 5
}
