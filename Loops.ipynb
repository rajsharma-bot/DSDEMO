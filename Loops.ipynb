{
 "cells": [
  {
   "cell_type": "markdown",
   "id": "2f47abad",
   "metadata": {},
   "source": [
    "# Loops"
   ]
  },
  {
   "cell_type": "markdown",
   "id": "6e2a5f6c",
   "metadata": {},
   "source": [
    "While Loops"
   ]
  },
  {
   "cell_type": "code",
   "execution_count": 4,
   "id": "d691c1bc",
   "metadata": {},
   "outputs": [
    {
     "name": "stdout",
     "output_type": "stream",
     "text": [
      "0\n",
      "1\n",
      "2\n",
      "3\n",
      "4\n"
     ]
    }
   ],
   "source": [
    "#initialization\n",
    "\n",
    "i=0\n",
    "\n",
    "#condition\n",
    "while(i<5):\n",
    "    print(i)\n",
    "    #increment \n",
    "    i=i+1"
   ]
  },
  {
   "cell_type": "code",
   "execution_count": 42,
   "id": "c0cec1d1",
   "metadata": {},
   "outputs": [
    {
     "name": "stdout",
     "output_type": "stream",
     "text": [
      "Table of 2 * 1 = 2\n",
      "Table of 2 * 2 = 4\n",
      "Table of 2 * 3 = 6\n",
      "Table of 2 * 4 = 8\n",
      "Table of 2 * 5 = 10\n",
      "Table of 2 * 6 = 12\n",
      "Table of 2 * 7 = 14\n",
      "Table of 2 * 8 = 16\n",
      "Table of 2 * 9 = 18\n",
      "Table of 2 * 10 = 20\n"
     ]
    }
   ],
   "source": [
    "i=1\n",
    "l=2\n",
    "while(i<=10):\n",
    "    print('Table of 2 *',i ,'=' ,l*i)\n",
    "    i=i+1"
   ]
  },
  {
   "cell_type": "code",
   "execution_count": 8,
   "id": "f5f9b944",
   "metadata": {},
   "outputs": [
    {
     "name": "stdout",
     "output_type": "stream",
     "text": [
      "0\n",
      "1\n",
      "2\n"
     ]
    }
   ],
   "source": [
    "i=0\n",
    "while(i<3):\n",
    "    print(i)\n",
    "    i=i+1"
   ]
  },
  {
   "cell_type": "code",
   "execution_count": 32,
   "id": "338f4538",
   "metadata": {},
   "outputs": [
    {
     "name": "stdout",
     "output_type": "stream",
     "text": [
      "0\n",
      "1\n",
      "2\n",
      "3\n",
      "4\n",
      "5\n",
      "6\n"
     ]
    }
   ],
   "source": [
    "i=0\n",
    "while(i<7):\n",
    "    print(i)\n",
    "    i=i+1\n",
    "    "
   ]
  },
  {
   "cell_type": "code",
   "execution_count": 22,
   "id": "11d1a92f",
   "metadata": {},
   "outputs": [
    {
     "name": "stdout",
     "output_type": "stream",
     "text": [
      "5\n",
      "4\n",
      "3\n",
      "2\n"
     ]
    }
   ],
   "source": [
    "i=5\n",
    "while(i>=2):\n",
    "    print(i)\n",
    "    i=i-1"
   ]
  },
  {
   "cell_type": "code",
   "execution_count": 26,
   "id": "efcf6b54",
   "metadata": {},
   "outputs": [
    {
     "name": "stdout",
     "output_type": "stream",
     "text": [
      "-10\n",
      "-9\n",
      "-8\n",
      "-7\n",
      "-6\n",
      "-5\n",
      "-4\n",
      "-3\n",
      "-2\n",
      "-1\n",
      "0\n",
      "1\n",
      "2\n",
      "3\n",
      "4\n"
     ]
    }
   ],
   "source": [
    "m=-10\n",
    "while(m<5):\n",
    "    print(m)\n",
    "    m=m+1"
   ]
  },
  {
   "cell_type": "code",
   "execution_count": 49,
   "id": "b1b0d26a",
   "metadata": {},
   "outputs": [
    {
     "name": "stdout",
     "output_type": "stream",
     "text": [
      "Value of p= 10\n",
      "Value of p= 20\n",
      "Value of p= 30\n",
      "Value of p= 40\n",
      "Value of p= 50\n",
      "Value of p= 60\n",
      "Value of p= 70\n",
      "Value of p= 80\n",
      "Value of p= 90\n",
      "Value of p= 100\n"
     ]
    }
   ],
   "source": [
    "p=10\n",
    "while(p<=100):\n",
    "    print(\"Value of p=\",p)\n",
    "    p=p+10\n",
    "    "
   ]
  },
  {
   "cell_type": "code",
   "execution_count": 57,
   "id": "57bf5880",
   "metadata": {},
   "outputs": [
    {
     "name": "stdout",
     "output_type": "stream",
     "text": [
      "Enter number for which table is required 6\n",
      "Table of  6 * 0 = 0\n",
      "Table of  6 * 1 = 6\n",
      "Table of  6 * 2 = 12\n",
      "Table of  6 * 3 = 18\n",
      "Table of  6 * 4 = 24\n",
      "Table of  6 * 5 = 30\n",
      "Table of  6 * 6 = 36\n",
      "Table of  6 * 7 = 42\n",
      "Table of  6 * 8 = 48\n",
      "Table of  6 * 9 = 54\n",
      "Table of  6 * 10 = 60\n"
     ]
    }
   ],
   "source": [
    "a=input('Enter number for which table is required ')\n",
    "b=0\n",
    "while(b<=10):\n",
    "    print('Table of ',a,'*',b,'=',int(a)*b)\n",
    "    b=b+1"
   ]
  },
  {
   "cell_type": "code",
   "execution_count": 54,
   "id": "e469ab60",
   "metadata": {},
   "outputs": [
    {
     "name": "stdout",
     "output_type": "stream",
     "text": [
      "0 1 2 3 4 5 6 7 8 9 "
     ]
    }
   ],
   "source": [
    "#end is used to make output in horizontal\n",
    "c=0\n",
    "while(c<10):\n",
    "    print(c,end=\" \")\n",
    "    c=c+1"
   ]
  },
  {
   "cell_type": "code",
   "execution_count": 58,
   "id": "1788d7ae",
   "metadata": {},
   "outputs": [
    {
     "name": "stdout",
     "output_type": "stream",
     "text": [
      "0,1,2,3,4,5,6,7,8,9,"
     ]
    }
   ],
   "source": [
    "c=0\n",
    "while(c<10):\n",
    "    print(c,end=\",\")\n",
    "    c=c+1"
   ]
  },
  {
   "cell_type": "code",
   "execution_count": 61,
   "id": "ff5a3974",
   "metadata": {},
   "outputs": [
    {
     "name": "stdout",
     "output_type": "stream",
     "text": [
      "0//1//2//3//4//5//6//7//8//9//"
     ]
    }
   ],
   "source": [
    "c=0\n",
    "while(c<10):\n",
    "    print(c,end=\"//\")\n",
    "    c=c+1"
   ]
  },
  {
   "cell_type": "markdown",
   "id": "f31022c9",
   "metadata": {},
   "source": [
    "# For Loops"
   ]
  },
  {
   "cell_type": "code",
   "execution_count": 62,
   "id": "c4a7a3d5",
   "metadata": {},
   "outputs": [
    {
     "name": "stdout",
     "output_type": "stream",
     "text": [
      "100\n",
      "200\n",
      "300\n",
      "500\n",
      "400\n"
     ]
    }
   ],
   "source": [
    "for index in [100,200,300,500,400]:\n",
    "    print(index)"
   ]
  },
  {
   "cell_type": "code",
   "execution_count": 63,
   "id": "19f980ac",
   "metadata": {},
   "outputs": [
    {
     "name": "stdout",
     "output_type": "stream",
     "text": [
      "10\n",
      "11\n",
      "12\n",
      "13\n",
      "14\n",
      "15\n",
      "16\n",
      "17\n"
     ]
    }
   ],
   "source": [
    "for index in [10,11,12,13,14,15,16,17]:\n",
    "    print(index)"
   ]
  },
  {
   "cell_type": "code",
   "execution_count": 64,
   "id": "359f2062",
   "metadata": {},
   "outputs": [
    {
     "name": "stdout",
     "output_type": "stream",
     "text": [
      "11\n",
      "22\n",
      "33\n",
      "44\n",
      "55\n"
     ]
    }
   ],
   "source": [
    "for i in [11,22,33,44,55]:\n",
    "    print(i)"
   ]
  },
  {
   "cell_type": "code",
   "execution_count": 65,
   "id": "8b621c70",
   "metadata": {},
   "outputs": [
    {
     "name": "stdout",
     "output_type": "stream",
     "text": [
      "11.5\n",
      "12.5\n",
      "13.9\n",
      "14.1\n",
      "15.6\n"
     ]
    }
   ],
   "source": [
    "for p in [11.5,12.5,13.9,14.1,15.60]:\n",
    "    print(p)"
   ]
  },
  {
   "cell_type": "code",
   "execution_count": 66,
   "id": "c73e2b71",
   "metadata": {},
   "outputs": [
    {
     "name": "stdout",
     "output_type": "stream",
     "text": [
      "A\n",
      "B\n",
      "C\n"
     ]
    }
   ],
   "source": [
    "for i in ['A','B','C']:\n",
    "    print(i)"
   ]
  },
  {
   "cell_type": "code",
   "execution_count": 73,
   "id": "61fed304",
   "metadata": {},
   "outputs": [
    {
     "name": "stdout",
     "output_type": "stream",
     "text": [
      "apple\n",
      "banana\n",
      "cherry\n"
     ]
    }
   ],
   "source": [
    "for fruits in [\"apple\", \"banana\", \"cherry\"]:\n",
    "    print(fruits)"
   ]
  },
  {
   "cell_type": "code",
   "execution_count": 74,
   "id": "2c85d392",
   "metadata": {},
   "outputs": [
    {
     "name": "stdout",
     "output_type": "stream",
     "text": [
      "apple banana cherry "
     ]
    }
   ],
   "source": [
    "for fruits in [\"apple\", \"banana\", \"cherry\"]:\n",
    "    print(fruits,end=\" \")"
   ]
  },
  {
   "cell_type": "code",
   "execution_count": 75,
   "id": "c365c98c",
   "metadata": {},
   "outputs": [
    {
     "name": "stdout",
     "output_type": "stream",
     "text": [
      "apple\n",
      "banana\n",
      "cherry\n",
      "11.5\n",
      "55\n",
      "True\n",
      "False\n"
     ]
    }
   ],
   "source": [
    "for k in  [\"apple\", \"banana\", \"cherry\",11.5,55,True,False]:\n",
    "    print(k)"
   ]
  },
  {
   "cell_type": "markdown",
   "id": "025eba81",
   "metadata": {},
   "source": [
    "Range function"
   ]
  },
  {
   "cell_type": "code",
   "execution_count": 76,
   "id": "06b2b91c",
   "metadata": {},
   "outputs": [
    {
     "data": {
      "text/plain": [
       "range(0, 5)"
      ]
     },
     "execution_count": 76,
     "metadata": {},
     "output_type": "execute_result"
    }
   ],
   "source": [
    "range(5)"
   ]
  },
  {
   "cell_type": "code",
   "execution_count": 77,
   "id": "35d5c520",
   "metadata": {},
   "outputs": [
    {
     "data": {
      "text/plain": [
       "range(0, 7)"
      ]
     },
     "execution_count": 77,
     "metadata": {},
     "output_type": "execute_result"
    }
   ],
   "source": [
    "range(7)"
   ]
  },
  {
   "cell_type": "code",
   "execution_count": 78,
   "id": "aec22f20",
   "metadata": {},
   "outputs": [
    {
     "data": {
      "text/plain": [
       "range(0, 10)"
      ]
     },
     "execution_count": 78,
     "metadata": {},
     "output_type": "execute_result"
    }
   ],
   "source": [
    "range(10)"
   ]
  },
  {
   "cell_type": "code",
   "execution_count": 87,
   "id": "c1808433",
   "metadata": {},
   "outputs": [
    {
     "data": {
      "text/plain": [
       "[0, 1, 2, 3, 4]"
      ]
     },
     "execution_count": 87,
     "metadata": {},
     "output_type": "execute_result"
    }
   ],
   "source": [
    "#with the help to list(range(x)) we can see range \n",
    "\n",
    "list(range(5))"
   ]
  },
  {
   "cell_type": "code",
   "execution_count": 80,
   "id": "6d80e42f",
   "metadata": {},
   "outputs": [
    {
     "data": {
      "text/plain": [
       "[0, 1, 2, 3, 4, 5, 6, 7, 8, 9, 10, 11, 12, 13, 14, 15, 16, 17, 18, 19]"
      ]
     },
     "execution_count": 80,
     "metadata": {},
     "output_type": "execute_result"
    }
   ],
   "source": [
    "list(range(20))"
   ]
  },
  {
   "cell_type": "code",
   "execution_count": 89,
   "id": "1d20b7cf",
   "metadata": {},
   "outputs": [
    {
     "data": {
      "text/plain": [
       "[2, 5, 8, 11, 14, 17]"
      ]
     },
     "execution_count": 89,
     "metadata": {},
     "output_type": "execute_result"
    }
   ],
   "source": [
    "#list(range(2,20,3)) where 2 is from where range with start upto 20  & 3 or any other number will skip x number \n",
    "#like in below case its skip 3 number from 2 to 5 . 3,4 is skiped similary 5-8 where 6,7 is skiped\n",
    "#range(start, end , jump or skip)\n",
    "\n",
    "list(range(2,20,3))"
   ]
  },
  {
   "cell_type": "code",
   "execution_count": 90,
   "id": "9fe5b11a",
   "metadata": {},
   "outputs": [
    {
     "name": "stdout",
     "output_type": "stream",
     "text": [
      "0 1 2 3 4 "
     ]
    }
   ],
   "source": [
    "for x in range(5):\n",
    "    print(x,end=\" \")"
   ]
  },
  {
   "cell_type": "code",
   "execution_count": 103,
   "id": "b487de70",
   "metadata": {},
   "outputs": [
    {
     "name": "stdout",
     "output_type": "stream",
     "text": [
      "0\n",
      "1\n",
      "2\n"
     ]
    }
   ],
   "source": [
    "for x in range(5):\n",
    "    if x==3: break\n",
    "    print(x)\n",
    "    "
   ]
  },
  {
   "cell_type": "code",
   "execution_count": 96,
   "id": "7d8c8e4a",
   "metadata": {},
   "outputs": [
    {
     "data": {
      "text/plain": [
       "[0, 2, 4, 6, 8]"
      ]
     },
     "execution_count": 96,
     "metadata": {},
     "output_type": "execute_result"
    }
   ],
   "source": [
    "list(range(0,10,2))"
   ]
  },
  {
   "cell_type": "code",
   "execution_count": 97,
   "id": "91bbaefa",
   "metadata": {},
   "outputs": [
    {
     "data": {
      "text/plain": [
       "[0, 2, 4, 6, 8, 10, 12, 14, 16, 18]"
      ]
     },
     "execution_count": 97,
     "metadata": {},
     "output_type": "execute_result"
    }
   ],
   "source": [
    "list(range(0,20,2))"
   ]
  },
  {
   "cell_type": "code",
   "execution_count": 98,
   "id": "fad693c8",
   "metadata": {},
   "outputs": [
    {
     "data": {
      "text/plain": [
       "[0, 5, 10, 15, 20, 25]"
      ]
     },
     "execution_count": 98,
     "metadata": {},
     "output_type": "execute_result"
    }
   ],
   "source": [
    "list(range(0,30,5))"
   ]
  },
  {
   "cell_type": "code",
   "execution_count": 99,
   "id": "6dd908e8",
   "metadata": {},
   "outputs": [
    {
     "name": "stdout",
     "output_type": "stream",
     "text": [
      "0 2 4 6 8 "
     ]
    }
   ],
   "source": [
    "for x in range(0,10,2):\n",
    "    print(x,end=\" \")"
   ]
  }
 ],
 "metadata": {
  "kernelspec": {
   "display_name": "Python 3 (ipykernel)",
   "language": "python",
   "name": "python3"
  },
  "language_info": {
   "codemirror_mode": {
    "name": "ipython",
    "version": 3
   },
   "file_extension": ".py",
   "mimetype": "text/x-python",
   "name": "python",
   "nbconvert_exporter": "python",
   "pygments_lexer": "ipython3",
   "version": "3.9.7"
  }
 },
 "nbformat": 4,
 "nbformat_minor": 5
}
